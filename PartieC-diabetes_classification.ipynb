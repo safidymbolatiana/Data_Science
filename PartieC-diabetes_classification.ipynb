{
 "cells": [
  {
   "cell_type": "markdown",
   "id": "0d51cf9f-77d9-436e-b6c6-0225fb53d209",
   "metadata": {},
   "source": [
    "### Partie C- Classification : diabetes"
   ]
  },
  {
   "cell_type": "markdown",
   "id": "c7138844-d05f-4cf0-a36c-cd52725f0dda",
   "metadata": {},
   "source": [
    "### 1.1 Chargement des données\n",
    " le fichier `diabetes.csv`"
   ]
  },
  {
   "cell_type": "code",
   "execution_count": 80,
   "id": "9d60d704",
   "metadata": {},
   "outputs": [
    {
     "data": {
      "text/html": [
       "<div>\n",
       "<style scoped>\n",
       "    .dataframe tbody tr th:only-of-type {\n",
       "        vertical-align: middle;\n",
       "    }\n",
       "\n",
       "    .dataframe tbody tr th {\n",
       "        vertical-align: top;\n",
       "    }\n",
       "\n",
       "    .dataframe thead th {\n",
       "        text-align: right;\n",
       "    }\n",
       "</style>\n",
       "<table border=\"1\" class=\"dataframe\">\n",
       "  <thead>\n",
       "    <tr style=\"text-align: right;\">\n",
       "      <th></th>\n",
       "      <th>Pregnancies</th>\n",
       "      <th>Glucose</th>\n",
       "      <th>BloodPressure</th>\n",
       "      <th>SkinThickness</th>\n",
       "      <th>Insulin</th>\n",
       "      <th>BMI</th>\n",
       "      <th>DiabetesPedigreeFunction</th>\n",
       "      <th>Age</th>\n",
       "      <th>Outcome</th>\n",
       "    </tr>\n",
       "  </thead>\n",
       "  <tbody>\n",
       "    <tr>\n",
       "      <th>0</th>\n",
       "      <td>6</td>\n",
       "      <td>148</td>\n",
       "      <td>72</td>\n",
       "      <td>35</td>\n",
       "      <td>0</td>\n",
       "      <td>33.6</td>\n",
       "      <td>0.627</td>\n",
       "      <td>50</td>\n",
       "      <td>1</td>\n",
       "    </tr>\n",
       "    <tr>\n",
       "      <th>1</th>\n",
       "      <td>1</td>\n",
       "      <td>85</td>\n",
       "      <td>66</td>\n",
       "      <td>29</td>\n",
       "      <td>0</td>\n",
       "      <td>26.6</td>\n",
       "      <td>0.351</td>\n",
       "      <td>31</td>\n",
       "      <td>0</td>\n",
       "    </tr>\n",
       "    <tr>\n",
       "      <th>2</th>\n",
       "      <td>8</td>\n",
       "      <td>183</td>\n",
       "      <td>64</td>\n",
       "      <td>0</td>\n",
       "      <td>0</td>\n",
       "      <td>23.3</td>\n",
       "      <td>0.672</td>\n",
       "      <td>32</td>\n",
       "      <td>1</td>\n",
       "    </tr>\n",
       "    <tr>\n",
       "      <th>3</th>\n",
       "      <td>1</td>\n",
       "      <td>89</td>\n",
       "      <td>66</td>\n",
       "      <td>23</td>\n",
       "      <td>94</td>\n",
       "      <td>28.1</td>\n",
       "      <td>0.167</td>\n",
       "      <td>21</td>\n",
       "      <td>0</td>\n",
       "    </tr>\n",
       "    <tr>\n",
       "      <th>4</th>\n",
       "      <td>0</td>\n",
       "      <td>137</td>\n",
       "      <td>40</td>\n",
       "      <td>35</td>\n",
       "      <td>168</td>\n",
       "      <td>43.1</td>\n",
       "      <td>2.288</td>\n",
       "      <td>33</td>\n",
       "      <td>1</td>\n",
       "    </tr>\n",
       "  </tbody>\n",
       "</table>\n",
       "</div>"
      ],
      "text/plain": [
       "   Pregnancies  Glucose  BloodPressure  SkinThickness  Insulin   BMI  \\\n",
       "0            6      148             72             35        0  33.6   \n",
       "1            1       85             66             29        0  26.6   \n",
       "2            8      183             64              0        0  23.3   \n",
       "3            1       89             66             23       94  28.1   \n",
       "4            0      137             40             35      168  43.1   \n",
       "\n",
       "   DiabetesPedigreeFunction  Age  Outcome  \n",
       "0                     0.627   50        1  \n",
       "1                     0.351   31        0  \n",
       "2                     0.672   32        1  \n",
       "3                     0.167   21        0  \n",
       "4                     2.288   33        1  "
      ]
     },
     "execution_count": 80,
     "metadata": {},
     "output_type": "execute_result"
    }
   ],
   "source": [
    "# Étape 1 : Chargement des données\n",
    "import pandas as pd\n",
    "import numpy as np\n",
    "import seaborn as sns\n",
    "import matplotlib.pyplot as plt\n",
    "\n",
    "df = pd.read_csv(\"diabetes.csv\")\n",
    "df.head()\n"
   ]
  },
  {
   "cell_type": "markdown",
   "id": "6ac88c15-351e-4f65-a45a-6d31ce03d475",
   "metadata": {},
   "source": [
    "## 2. Nettoyage et prétraitement\n",
    "### 2.1.  Gestion des zéros/missing dans les variables cliniques\n"
   ]
  },
  {
   "cell_type": "code",
   "execution_count": 81,
   "id": "f7aa7c50",
   "metadata": {
    "scrolled": true
   },
   "outputs": [
    {
     "name": "stdout",
     "output_type": "stream",
     "text": [
      "Valeurs manquantes :\n",
      "Pregnancies                   0\n",
      "Glucose                       5\n",
      "BloodPressure                35\n",
      "SkinThickness               227\n",
      "Insulin                     374\n",
      "BMI                          11\n",
      "DiabetesPedigreeFunction      0\n",
      "Age                           0\n",
      "Outcome                       0\n",
      "dtype: int64\n"
     ]
    }
   ],
   "source": [
    "cols_to_clean = ['Glucose', 'BloodPressure', 'SkinThickness', 'Insulin', 'BMI']\n",
    "df[cols_to_clean] = df[cols_to_clean].replace(0, np.nan)\n",
    "print(\"Valeurs manquantes :\")\n",
    "print(df.isnull().sum())\n",
    "\n",
    "# Remplissage par la médiane\n",
    "df[cols_to_clean] = df[cols_to_clean].fillna(df[cols_to_clean].median())\n"
   ]
  },
  {
   "cell_type": "markdown",
   "id": "dd49c023-9c4e-4acc-ae3b-d46e5c10c57e",
   "metadata": {},
   "source": [
    "### 2.2. Standardisation des mesures"
   ]
  },
  {
   "cell_type": "code",
   "execution_count": 82,
   "id": "7ace23ac",
   "metadata": {},
   "outputs": [],
   "source": [
    "from sklearn.preprocessing import StandardScaler\n",
    "\n",
    "scaler = StandardScaler()\n",
    "X_scaled = scaler.fit_transform(df.drop('Outcome', axis=1))\n",
    "y = df['Outcome']\n"
   ]
  },
  {
   "cell_type": "markdown",
   "id": "59f6f576-51b0-47c7-80ce-ebe384e5a236",
   "metadata": {},
   "source": [
    "### 3. EDA & déséquilibe"
   ]
  },
  {
   "cell_type": "markdown",
   "id": "4acada6b-44f9-4d93-8c4f-a81928927853",
   "metadata": {},
   "source": [
    "### 3.1  Barplots du nombre de positifs/négatifs"
   ]
  },
  {
   "cell_type": "code",
   "execution_count": 83,
   "id": "7ad10cda",
   "metadata": {},
   "outputs": [
    {
     "data": {
      "image/png": "[encoded data removed]",
      "text/plain": [
       "<Figure size 640x480 with 1 Axes>"
      ]
     },
     "metadata": {},
     "output_type": "display_data"
    }
   ],
   "source": [
    "sns.countplot(x='Outcome', data=df)\n",
    "plt.title(\"Distribution des classes\")\n",
    "plt.show()"
   ]
  },
  {
   "cell_type": "markdown",
   "id": "18ffb9ed-4c97-4b53-85bc-98c8a91881f2",
   "metadata": {},
   "source": [
    "### 3.2 statistiques descriptives par classe. "
   ]
  },
  {
   "cell_type": "code",
   "execution_count": 84,
   "id": "d66288cd-ae73-4525-9880-66a46f2504f0",
   "metadata": {},
   "outputs": [
    {
     "data": {
      "text/html": [
       "<div>\n",
       "<style scoped>\n",
       "    .dataframe tbody tr th:only-of-type {\n",
       "        vertical-align: middle;\n",
       "    }\n",
       "\n",
       "    .dataframe tbody tr th {\n",
       "        vertical-align: top;\n",
       "    }\n",
       "\n",
       "    .dataframe thead tr th {\n",
       "        text-align: left;\n",
       "    }\n",
       "\n",
       "    .dataframe thead tr:last-of-type th {\n",
       "        text-align: right;\n",
       "    }\n",
       "</style>\n",
       "<table border=\"1\" class=\"dataframe\">\n",
       "  <thead>\n",
       "    <tr>\n",
       "      <th></th>\n",
       "      <th colspan=\"8\" halign=\"left\">Pregnancies</th>\n",
       "      <th colspan=\"2\" halign=\"left\">Glucose</th>\n",
       "      <th>...</th>\n",
       "      <th colspan=\"2\" halign=\"left\">DiabetesPedigreeFunction</th>\n",
       "      <th colspan=\"8\" halign=\"left\">Age</th>\n",
       "    </tr>\n",
       "    <tr>\n",
       "      <th></th>\n",
       "      <th>count</th>\n",
       "      <th>mean</th>\n",
       "      <th>std</th>\n",
       "      <th>min</th>\n",
       "      <th>25%</th>\n",
       "      <th>50%</th>\n",
       "      <th>75%</th>\n",
       "      <th>max</th>\n",
       "      <th>count</th>\n",
       "      <th>mean</th>\n",
       "      <th>...</th>\n",
       "      <th>75%</th>\n",
       "      <th>max</th>\n",
       "      <th>count</th>\n",
       "      <th>mean</th>\n",
       "      <th>std</th>\n",
       "      <th>min</th>\n",
       "      <th>25%</th>\n",
       "      <th>50%</th>\n",
       "      <th>75%</th>\n",
       "      <th>max</th>\n",
       "    </tr>\n",
       "    <tr>\n",
       "      <th>Outcome</th>\n",
       "      <th></th>\n",
       "      <th></th>\n",
       "      <th></th>\n",
       "      <th></th>\n",
       "      <th></th>\n",
       "      <th></th>\n",
       "      <th></th>\n",
       "      <th></th>\n",
       "      <th></th>\n",
       "      <th></th>\n",
       "      <th></th>\n",
       "      <th></th>\n",
       "      <th></th>\n",
       "      <th></th>\n",
       "      <th></th>\n",
       "      <th></th>\n",
       "      <th></th>\n",
       "      <th></th>\n",
       "      <th></th>\n",
       "      <th></th>\n",
       "      <th></th>\n",
       "    </tr>\n",
       "  </thead>\n",
       "  <tbody>\n",
       "    <tr>\n",
       "      <th>0</th>\n",
       "      <td>500.0</td>\n",
       "      <td>3.298000</td>\n",
       "      <td>3.017185</td>\n",
       "      <td>0.0</td>\n",
       "      <td>1.00</td>\n",
       "      <td>2.0</td>\n",
       "      <td>5.0</td>\n",
       "      <td>13.0</td>\n",
       "      <td>500.0</td>\n",
       "      <td>110.682000</td>\n",
       "      <td>...</td>\n",
       "      <td>0.56175</td>\n",
       "      <td>2.329</td>\n",
       "      <td>500.0</td>\n",
       "      <td>31.190000</td>\n",
       "      <td>11.667655</td>\n",
       "      <td>21.0</td>\n",
       "      <td>23.0</td>\n",
       "      <td>27.0</td>\n",
       "      <td>37.0</td>\n",
       "      <td>81.0</td>\n",
       "    </tr>\n",
       "    <tr>\n",
       "      <th>1</th>\n",
       "      <td>268.0</td>\n",
       "      <td>4.865672</td>\n",
       "      <td>3.741239</td>\n",
       "      <td>0.0</td>\n",
       "      <td>1.75</td>\n",
       "      <td>4.0</td>\n",
       "      <td>8.0</td>\n",
       "      <td>17.0</td>\n",
       "      <td>268.0</td>\n",
       "      <td>142.130597</td>\n",
       "      <td>...</td>\n",
       "      <td>0.72800</td>\n",
       "      <td>2.420</td>\n",
       "      <td>268.0</td>\n",
       "      <td>37.067164</td>\n",
       "      <td>10.968254</td>\n",
       "      <td>21.0</td>\n",
       "      <td>28.0</td>\n",
       "      <td>36.0</td>\n",
       "      <td>44.0</td>\n",
       "      <td>70.0</td>\n",
       "    </tr>\n",
       "  </tbody>\n",
       "</table>\n",
       "<p>2 rows × 64 columns</p>\n",
       "</div>"
      ],
      "text/plain": [
       "        Pregnancies                                                Glucose  \\\n",
       "              count      mean       std  min   25%  50%  75%   max   count   \n",
       "Outcome                                                                      \n",
       "0             500.0  3.298000  3.017185  0.0  1.00  2.0  5.0  13.0   500.0   \n",
       "1             268.0  4.865672  3.741239  0.0  1.75  4.0  8.0  17.0   268.0   \n",
       "\n",
       "                     ... DiabetesPedigreeFunction           Age             \\\n",
       "               mean  ...                      75%    max  count       mean   \n",
       "Outcome              ...                                                     \n",
       "0        110.682000  ...                  0.56175  2.329  500.0  31.190000   \n",
       "1        142.130597  ...                  0.72800  2.420  268.0  37.067164   \n",
       "\n",
       "                                                  \n",
       "               std   min   25%   50%   75%   max  \n",
       "Outcome                                           \n",
       "0        11.667655  21.0  23.0  27.0  37.0  81.0  \n",
       "1        10.968254  21.0  28.0  36.0  44.0  70.0  \n",
       "\n",
       "[2 rows x 64 columns]"
      ]
     },
     "execution_count": 84,
     "metadata": {},
     "output_type": "execute_result"
    }
   ],
   "source": [
    "df.groupby('Outcome').describe()"
   ]
  },
  {
   "cell_type": "markdown",
   "id": "79e58807-65a3-406f-abfb-32b00c997073",
   "metadata": {},
   "source": [
    "### 4. Split Train/ Validation/ Test"
   ]
  },
  {
   "cell_type": "code",
   "execution_count": 85,
   "id": "a92651bd",
   "metadata": {},
   "outputs": [],
   "source": [
    "from sklearn.model_selection import train_test_split\n",
    "\n",
    "X_temp, X_test, y_temp, y_test = train_test_split(X_scaled, y, test_size=0.2, random_state=42, stratify=y)\n",
    "X_train, X_val, y_train, y_val = train_test_split(X_temp, y_temp, test_size=0.25, random_state=42, stratify=y_temp)\n"
   ]
  },
  {
   "cell_type": "markdown",
   "id": "0226d8d6-8321-4195-983b-0baf6c95593b",
   "metadata": {},
   "source": [
    "### 5.  Feature Engineering / Sélection"
   ]
  },
  {
   "cell_type": "code",
   "execution_count": 88,
   "id": "50f99c9f",
   "metadata": {},
   "outputs": [],
   "source": [
    "# Pas d'encodage nécessaire car tout est numérique\n",
    "# Les données sont déjà standardisées"
   ]
  },
  {
   "cell_type": "code",
   "execution_count": 89,
   "id": "dbf2bec6-a1ec-4437-9d2a-985c7dd2a917",
   "metadata": {},
   "outputs": [
    {
     "name": "stdout",
     "output_type": "stream",
     "text": [
      "Requirement already satisfied: imbalanced-learn in /opt/conda/lib/python3.11/site-packages (0.13.0)\n",
      "Requirement already satisfied: numpy<3,>=1.24.3 in /opt/conda/lib/python3.11/site-packages (from imbalanced-learn) (1.26.4)\n",
      "Requirement already satisfied: scipy<2,>=1.10.1 in /opt/conda/lib/python3.11/site-packages (from imbalanced-learn) (1.11.4)\n",
      "Requirement already satisfied: scikit-learn<2,>=1.3.2 in /opt/conda/lib/python3.11/site-packages (from imbalanced-learn) (1.4.1.post1)\n",
      "Requirement already satisfied: sklearn-compat<1,>=0.1 in /opt/conda/lib/python3.11/site-packages (from imbalanced-learn) (0.1.3)\n",
      "Requirement already satisfied: joblib<2,>=1.1.1 in /opt/conda/lib/python3.11/site-packages (from imbalanced-learn) (1.3.2)\n",
      "Requirement already satisfied: threadpoolctl<4,>=2.0.0 in /opt/conda/lib/python3.11/site-packages (from imbalanced-learn) (3.3.0)\n"
     ]
    }
   ],
   "source": [
    "# Installation du imbalanced-learn \n",
    "!pip install imbalanced-learn"
   ]
  },
  {
   "cell_type": "markdown",
   "id": "36d689cd-dfc6-4698-82e5-c2ad61ebe5f2",
   "metadata": {},
   "source": [
    "### 6. Gestion du déséquilibre  "
   ]
  },
  {
   "cell_type": "code",
   "execution_count": 90,
   "id": "c2d1f0b8-380b-4275-b050-795fe94bfe91",
   "metadata": {},
   "outputs": [
    {
     "name": "stdout",
     "output_type": "stream",
     "text": [
      "Avant SMOTE: Outcome\n",
      "0    300\n",
      "1    160\n",
      "Name: count, dtype: int64\n",
      "Après SMOTE: Outcome\n",
      "0    300\n",
      "1    300\n",
      "Name: count, dtype: int64\n"
     ]
    },
    {
     "data": {
      "image/png": "[encoded data removed]",
      "text/plain": [
       "<Figure size 640x480 with 1 Axes>"
      ]
     },
     "metadata": {},
     "output_type": "display_data"
    }
   ],
   "source": [
    "from imblearn.over_sampling import SMOTE\n",
    "\n",
    "print(\"Avant SMOTE:\", y_train.value_counts())\n",
    "\n",
    "smote = SMOTE(random_state=42)\n",
    "X_train_bal, y_train_bal = smote.fit_resample(X_train, y_train)\n",
    "\n",
    "print(\"Après SMOTE:\", y_train_bal.value_counts())\n",
    "\n",
    "import seaborn as sns\n",
    "import matplotlib.pyplot as plt\n",
    "\n",
    "sns.countplot(x=y_train_bal)\n",
    "plt.title(\"Distribution après SMOTE\")\n",
    "plt.show()\n"
   ]
  },
  {
   "cell_type": "markdown",
   "id": "f710935c-a642-4a7c-a4e8-d49e7124e8ba",
   "metadata": {},
   "source": [
    "### 7. Modélisation initiale : Logistic Regression. Evaluation Accuracy, Precision, Recall, F1 sur validation"
   ]
  },
  {
   "cell_type": "code",
   "execution_count": 91,
   "id": "7c243bdb-cd1f-4da9-a79b-ab7cde66a699",
   "metadata": {},
   "outputs": [
    {
     "name": "stdout",
     "output_type": "stream",
     "text": [
      "Évaluation sur le set de validation :\n",
      "Accuracy: 0.7532467532467533\n",
      "Precision: 0.6428571428571429\n",
      "Recall: 0.6666666666666666\n",
      "F1 Score: 0.6545454545454545\n"
     ]
    }
   ],
   "source": [
    "from sklearn.linear_model import LogisticRegression\n",
    "from sklearn.metrics import accuracy_score, precision_score, recall_score, f1_score\n",
    "\n",
    "model = LogisticRegression(max_iter=1000)\n",
    "model.fit(X_train_bal, y_train_bal)\n",
    "\n",
    "y_val_pred = model.predict(X_val)\n",
    "\n",
    "print(\"Évaluation sur le set de validation :\")\n",
    "print(\"Accuracy:\", accuracy_score(y_val, y_val_pred))\n",
    "print(\"Precision:\", precision_score(y_val, y_val_pred))\n",
    "print(\"Recall:\", recall_score(y_val, y_val_pred))\n",
    "print(\"F1 Score:\", f1_score(y_val, y_val_pred))\n"
   ]
  },
  {
   "cell_type": "markdown",
   "id": "8b75b40f-31c9-4379-a1ba-c93de0b6beda",
   "metadata": {},
   "source": [
    "### 8. Évaluation finale : Matrice de confusion, analyses sur le test set"
   ]
  },
  {
   "cell_type": "code",
   "execution_count": 92,
   "id": "0219ccc0-b052-470b-b510-0b541e42476d",
   "metadata": {},
   "outputs": [
    {
     "data": {
      "image/png": "[encoded data removed]",
      "text/plain": [
       "<Figure size 640x480 with 2 Axes>"
      ]
     },
     "metadata": {},
     "output_type": "display_data"
    },
    {
     "name": "stdout",
     "output_type": "stream",
     "text": [
      "F1 Score (Test): 0.6610169491525424\n"
     ]
    }
   ],
   "source": [
    "from sklearn.metrics import confusion_matrix, ConfusionMatrixDisplay\n",
    "\n",
    "y_test_pred = model.predict(X_test)\n",
    "\n",
    "cm = confusion_matrix(y_test, y_test_pred)\n",
    "disp = ConfusionMatrixDisplay(confusion_matrix=cm)\n",
    "disp.plot()\n",
    "plt.title(\"Matrice de confusion - Test\")\n",
    "plt.show()\n",
    "\n",
    "print(\"F1 Score (Test):\", f1_score(y_test, y_test_pred))\n"
   ]
  },
  {
   "cell_type": "markdown",
   "id": "e0c782ea-8f63-48bb-802b-029722569d11",
   "metadata": {},
   "source": [
    "### 9. Explainability : Importance des features, analyse des erreurs (faux positifs/faux négatifs, f1-score)"
   ]
  },
  {
   "cell_type": "code",
   "execution_count": 93,
   "id": "6965865e-fb93-44c9-92de-e9f7fca7afa6",
   "metadata": {},
   "outputs": [
    {
     "data": {
      "image/png": "[encoded data removed]",
      "text/plain": [
       "<Figure size 640x480 with 1 Axes>"
      ]
     },
     "metadata": {},
     "output_type": "display_data"
    },
    {
     "name": "stdout",
     "output_type": "stream",
     "text": [
      "Faux positifs : 25\n",
      "Faux négatifs : 15\n"
     ]
    }
   ],
   "source": [
    "importances = model.coef_[0]\n",
    "features = df.columns[:-1]\n",
    "feature_importance = pd.Series(importances, index=features).sort_values()\n",
    "\n",
    "feature_importance.plot(kind='barh')\n",
    "plt.title(\"Importance des variables\")\n",
    "plt.show()\n",
    "\n",
    "errors = pd.DataFrame({'Actual': y_test, 'Predicted': y_test_pred})\n",
    "print(\"Faux positifs :\", len(errors[(errors['Actual']==0) & (errors['Predicted']==1)]))\n",
    "print(\"Faux négatifs :\", len(errors[(errors['Actual']==1) & (errors['Predicted']==0)]))\n"
   ]
  },
  {
   "cell_type": "markdown",
   "id": "21ff3a78-3d33-4009-9267-43a9896a4920",
   "metadata": {},
   "source": [
    "## 10. Conclusions\n",
    "- Le modèle de régression logistique donne une performance initiale solide avec SMOTE.\n",
    "- Le traitement des valeurs nulles par la médiane a permis de stabiliser les features.\n",
    "- Pour améliorer la performance, explorer des modèles comme Random Forest ou XGBoost.\n",
    "- Vérifier l’origine des erreurs et améliorer la qualité des données collectées.\n"
   ]
  }
 ],
 "metadata": {
  "kernelspec": {
   "display_name": "base",
   "language": "python",
   "name": "python3"
  },
  "language_info": {
   "codemirror_mode": {
    "name": "ipython",
    "version": 3
   },
   "file_extension": ".py",
   "mimetype": "text/x-python",
   "name": "python",
   "nbconvert_exporter": "python",
   "pygments_lexer": "ipython3",
   "version": "3.11.6"
  }
 },
 "nbformat": 4,
 "nbformat_minor": 5
}
